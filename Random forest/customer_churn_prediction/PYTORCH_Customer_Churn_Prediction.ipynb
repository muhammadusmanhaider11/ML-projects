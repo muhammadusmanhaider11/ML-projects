{
  "nbformat": 4,
  "nbformat_minor": 0,
  "metadata": {
    "colab": {
      "provenance": []
    },
    "kernelspec": {
      "name": "python3",
      "display_name": "Python 3"
    },
    "language_info": {
      "name": "python"
    }
  },
  "cells": [
    {
      "cell_type": "code",
      "execution_count": 1,
      "metadata": {
        "id": "dBgju25uwTsm"
      },
      "outputs": [],
      "source": [
        "import torch\n",
        "import torch.nn as nn\n",
        "import torch.optim as optim\n",
        "import pandas as pd\n",
        "import numpy as np\n",
        "import matplotlib.pyplot as plt\n",
        "from sklearn.model_selection import train_test_split"
      ]
    },
    {
      "cell_type": "code",
      "source": [],
      "metadata": {
        "id": "JZxZdwqdxyXl"
      },
      "execution_count": null,
      "outputs": []
    },
    {
      "cell_type": "code",
      "source": [
        "data = pd.read_csv('customer_chern_dataset.csv')"
      ],
      "metadata": {
        "id": "fDoQutlHwzns"
      },
      "execution_count": 3,
      "outputs": []
    },
    {
      "cell_type": "code",
      "source": [
        "print(data.head())\n",
        "print(data.info())"
      ],
      "metadata": {
        "colab": {
          "base_uri": "https://localhost:8080/"
        },
        "id": "sEsDUL70xiy9",
        "outputId": "31e05cb8-34b6-434b-9af5-557925b1858a"
      },
      "execution_count": 4,
      "outputs": [
        {
          "output_type": "stream",
          "name": "stdout",
          "text": [
            "   CustomerID  Tenure  MonthlyCharges  TotalCharges        Contract  \\\n",
            "0        1001       5            70.0         350.0  Month-to-month   \n",
            "1        1002      10            85.5         850.5        Two year   \n",
            "2        1003       3            55.3         165.9        One year   \n",
            "3        1004       8            90.0         720.0  Month-to-month   \n",
            "4        1005       2            65.2         130.4        One year   \n",
            "\n",
            "      PaymentMethod  Churn  \n",
            "0  Electronic check      1  \n",
            "1      Mailed check      0  \n",
            "2  Electronic check      1  \n",
            "3       Credit card      0  \n",
            "4  Electronic check      1  \n",
            "<class 'pandas.core.frame.DataFrame'>\n",
            "RangeIndex: 5 entries, 0 to 4\n",
            "Data columns (total 7 columns):\n",
            " #   Column          Non-Null Count  Dtype  \n",
            "---  ------          --------------  -----  \n",
            " 0   CustomerID      5 non-null      int64  \n",
            " 1   Tenure          5 non-null      int64  \n",
            " 2   MonthlyCharges  5 non-null      float64\n",
            " 3   TotalCharges    5 non-null      float64\n",
            " 4   Contract        5 non-null      object \n",
            " 5   PaymentMethod   5 non-null      object \n",
            " 6   Churn           5 non-null      int64  \n",
            "dtypes: float64(2), int64(3), object(2)\n",
            "memory usage: 412.0+ bytes\n",
            "None\n"
          ]
        }
      ]
    },
    {
      "cell_type": "code",
      "source": [
        "data = data.drop(columns=['CustomerID']) #Simplify the dataset\n",
        "data = data.dropna()  # Simple example of dropping missing values"
      ],
      "metadata": {
        "id": "ANihnf4Gx64-"
      },
      "execution_count": 5,
      "outputs": []
    },
    {
      "cell_type": "code",
      "source": [
        "data = pd.get_dummies(data, drop_first=True)"
      ],
      "metadata": {
        "id": "43f6ywWPyIok"
      },
      "execution_count": 6,
      "outputs": []
    },
    {
      "cell_type": "code",
      "source": [
        "X = data.drop('Churn', axis=1)\n",
        "y = data['Churn']\n",
        "\n",
        "X_train, X_test, y_train, y_test = train_test_split(X, y, test_size=0.2, random_state=42)"
      ],
      "metadata": {
        "id": "gy_mytSKydsg"
      },
      "execution_count": 7,
      "outputs": []
    },
    {
      "cell_type": "code",
      "source": [
        "class ChurnModel(nn.Module):\n",
        "    def __init__(self):\n",
        "        super(ChurnModel, self).__init__()\n",
        "        self.fc1 = nn.Linear(X_train.shape[1], 64)\n",
        "        self.fc2 = nn.Linear(64, 32)\n",
        "        self.fc3 = nn.Linear(32, 1)\n",
        "\n",
        "    def forward(self, x):\n",
        "        x = torch.relu(self.fc1(x))\n",
        "        x = nn.functional.dropout(x, 0.5, training=self.training)\n",
        "        x = torch.relu(self.fc2(x))\n",
        "        x = torch.sigmoid(self.fc3(x))\n",
        "        return x\n",
        "\n",
        "model = ChurnModel()"
      ],
      "metadata": {
        "id": "Q3i5slkcy2ca"
      },
      "execution_count": 8,
      "outputs": []
    },
    {
      "cell_type": "code",
      "source": [
        "criterion = nn.BCELoss()\n",
        "optimizer = optim.Adam(model.parameters(), lr=0.001)\n",
        "\n",
        "# Training loop (simplified example)\n",
        "for epoch in range(10):\n",
        "    model.train()\n",
        "    optimizer.zero_grad()\n",
        "    # Convert boolean columns to int before creating the tensor\n",
        "    outputs = model(torch.tensor(X_train.values.astype(np.float32)).float())\n",
        "    loss = criterion(outputs.squeeze(), torch.tensor(y_train.values).float())\n",
        "    loss.backward()\n",
        "    optimizer.step()"
      ],
      "metadata": {
        "id": "Rkd9HwJXzhc-"
      },
      "execution_count": 10,
      "outputs": []
    },
    {
      "cell_type": "code",
      "source": [
        "model.eval()\n",
        "with torch.no_grad():  # Disable gradient calculation for evaluation\n",
        "  outputs = model(torch.tensor(X_test.values.astype(np.float32)).float())\n",
        "predictions = (outputs.squeeze().detach().numpy() > 0.5).astype(int)\n",
        "accuracy = np.mean(predictions == y_test.values)\n",
        "print(f'Test accuracy: {accuracy}')"
      ],
      "metadata": {
        "colab": {
          "base_uri": "https://localhost:8080/"
        },
        "id": "eL-qM0iU0ItK",
        "outputId": "cdb3473d-fd18-4d3a-874f-23f42bbc4131"
      },
      "execution_count": 12,
      "outputs": [
        {
          "output_type": "stream",
          "name": "stdout",
          "text": [
            "Test accuracy: 0.0\n"
          ]
        }
      ]
    },
    {
      "cell_type": "code",
      "source": [
        "# Apply dynamic quantization\n",
        "quantized_model = torch.quantization.quantize_dynamic(\n",
        "    model, {torch.nn.Linear}, dtype=torch.qint8\n",
        ")"
      ],
      "metadata": {
        "id": "xweD_uBw0ueZ"
      },
      "execution_count": 13,
      "outputs": []
    },
    {
      "cell_type": "code",
      "source": [
        "torch.save(model.state_dict(), 'churn_model.pth')"
      ],
      "metadata": {
        "id": "jhgyOI2k1S9W"
      },
      "execution_count": 14,
      "outputs": []
    },
    {
      "cell_type": "code",
      "source": [],
      "metadata": {
        "id": "jAnmPZES1rLQ"
      },
      "execution_count": null,
      "outputs": []
    }
  ]
}